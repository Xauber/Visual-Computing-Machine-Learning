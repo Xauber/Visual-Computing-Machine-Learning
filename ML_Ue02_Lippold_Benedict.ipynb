{
 "cells": [
  {
   "cell_type": "code",
   "execution_count": 1,
   "id": "75e7bb8f",
   "metadata": {},
   "outputs": [],
   "source": [
    "import numpy as np\n",
    "import matplotlib.pyplot as plt\n",
    "%matplotlib inline "
   ]
  },
  {
   "cell_type": "code",
   "execution_count": 2,
   "id": "a1e1aaed",
   "metadata": {},
   "outputs": [],
   "source": [
    "nations = np.genfromtxt(\"nations.csv\", delimiter=\",\", skip_header=True) "
   ]
  },
  {
   "cell_type": "code",
   "execution_count": 4,
   "id": "9d66d9ed",
   "metadata": {
    "scrolled": true
   },
   "outputs": [
    {
     "data": {
      "image/png": "[encoded data removed]",
      "text/plain": [
       "<Figure size 432x288 with 1 Axes>"
      ]
     },
     "metadata": {
      "needs_background": "light"
     },
     "output_type": "display_data"
    }
   ],
   "source": [
    "#6:  aus Aufgabe 6 letzter Woche --> die Linearfunktion mit einem Polynom ersetzt.\n",
    "\n",
    "\n",
    "def linearGraphApproximation(x):\n",
    "\n",
    "    #y = 78.57 * x + 70\n",
    "    y = 70 * pow(x, 0) + 78.57 * pow(x, 1);\n",
    "    \n",
    "    return y\n",
    "    \n",
    "\n",
    "worldLifespan = nations[:,4]\n",
    "worldGdpPerPerson = nations[:,3] / nations[:,6]\n",
    "\n",
    "plt.plot(worldGdpPerPerson, worldLifespan,  'o')    \n",
    "    \n",
    "plt.plot([0, 0.14], [linearGraphApproximation(0), linearGraphApproximation(0.14)])\n",
    "\n",
    "plt.show()"
   ]
  },
  {
   "cell_type": "code",
   "execution_count": 132,
   "id": "5ab8535a",
   "metadata": {
    "scrolled": false
   },
   "outputs": [
    {
     "name": "stdout",
     "output_type": "stream",
     "text": [
      "[   67.11889558   415.86397018 -1886.10664651]\n",
      "6.802072660040747\n"
     ]
    },
    {
     "data": {
      "image/png": "[encoded data removed]",
      "text/plain": [
       "<Figure size 432x288 with 1 Axes>"
      ]
     },
     "metadata": {
      "needs_background": "light"
     },
     "output_type": "display_data"
    }
   ],
   "source": [
    "import numpy as np\n",
    "import matplotlib.pyplot as plt\n",
    "import random\n",
    "%matplotlib inline\n",
    "\n",
    "nations = np.genfromtxt(\"nations.csv\", delimiter=\",\", skip_header=True) \n",
    "\n",
    "\n",
    "# Funktion zur Berechnung des root square error\n",
    "def getRMSE (werte, erwarteteWerte):\n",
    "    quadratischerFehlerSum =  np.sum(np.power((erwarteteWerte) - werte, 2))\n",
    "    mse = quadratischerFehlerSum / len(werte)\n",
    "    rmse = np.sqrt(mse)\n",
    "    return rmse\n",
    "    \n",
    "# Polynomfunktion zweiten Grades mit angegebenen Koeffizienten zurückgeben\n",
    "def getPolynomfunktion(x, k0, k1, k2):\n",
    "    y = (k0 * pow(x, 0)) + (k1 * pow(x, 1)) + (k2 * pow(x, 2))\n",
    "    return y\n",
    "\n",
    "\n",
    "# Die tatsächlichen Werte zum Verhältnis der World Lifespan zum World GDP per Person plotten\n",
    "worldGdpPerPerson = nations[:,3] / nations[:,6]\n",
    "worldLifespan = nations[:,4]\n",
    "plt.plot(worldGdpPerPerson, worldLifespan, 'o')\n",
    "\n",
    "\n",
    "bippp = np.expand_dims(worldGdpPerPerson, axis=0)\n",
    "p = np.expand_dims(np.arange(0,3), axis=1)\n",
    "bippp2 = np.power(bippp, p)\n",
    "\n",
    " \n",
    "#Initialisierung der Variablen der kleinsten RMSE und der optimalsten Koeffizienten, smallestRMSE auf unendlich\n",
    "smallestRMSE = float(\"inf\")\n",
    "besteKoeffizienten = 0\n",
    "\n",
    "for i in range(0, 100001, 1): \n",
    "    k0 = random.uniform(0,101)\n",
    "    k1 = random.uniform(-1000, 1000)\n",
    "    k2 = random.uniform(-2000, 2000)\n",
    "    \n",
    "    #Berechnung der Werte der jeweiligen Polynomfunktion\n",
    "    k = np.expand_dims(np.array([k0,k1,k2]), axis=1)\n",
    "    y = np.matmul(bippp2.transpose(), k)\n",
    "    y = np.squeeze(y)\n",
    "    \n",
    "    rmse = getRMSE(y, worldLifespan) \n",
    "    #print(rmse)\n",
    "    \n",
    "    if(rmse < smallestRMSE):\n",
    "        smallestRMSE = rmse\n",
    "        besteKoeffizienten = np.array([k0, k1, k2])\n",
    "\n",
    "# x Achse plotten und passend skalieren\n",
    "x = np.arange(0.0, 0.15, 0.01)                        \n",
    "plt.plot(x, getPolynomfunktion(x, besteKoeffizienten[0], besteKoeffizienten[1], besteKoeffizienten[2]), color=\"orange\")\n",
    "print(besteKoeffizienten)\n",
    "print(smallestRMSE)\n",
    "plt.show()"
   ]
  },
  {
   "cell_type": "code",
   "execution_count": null,
   "id": "1d66bfef",
   "metadata": {},
   "outputs": [],
   "source": [
    "# Die geringste MSE: 6.802072660040747 wurde in dem von mir gewählten Wertebereich mit \n",
    "# den Koeffizienten 67.03224103, 415.86397018 & -1886.10664651 erzielt"
   ]
  },
  {
   "cell_type": "code",
   "execution_count": null,
   "id": "84762518",
   "metadata": {},
   "outputs": [],
   "source": []
  }
 ],
 "metadata": {
  "kernelspec": {
   "display_name": "Python 3 (ipykernel)",
   "language": "python",
   "name": "python3"
  },
  "language_info": {
   "codemirror_mode": {
    "name": "ipython",
    "version": 3
   },
   "file_extension": ".py",
   "mimetype": "text/x-python",
   "name": "python",
   "nbconvert_exporter": "python",
   "pygments_lexer": "ipython3",
   "version": "3.7.13"
  }
 },
 "nbformat": 4,
 "nbformat_minor": 5
}
