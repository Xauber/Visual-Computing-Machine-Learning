{
 "cells": [
  {
   "cell_type": "code",
   "execution_count": 1,
   "id": "75e7bb8f",
   "metadata": {},
   "outputs": [],
   "source": [
    "import numpy as np"
   ]
  },
  {
   "cell_type": "code",
   "execution_count": 2,
   "id": "2ac05e41",
   "metadata": {},
   "outputs": [],
   "source": [
    "a = np.array([21, 3])"
   ]
  },
  {
   "cell_type": "code",
   "execution_count": 3,
   "id": "016d427c",
   "metadata": {},
   "outputs": [
    {
     "data": {
      "text/plain": [
       "array([21,  3])"
      ]
     },
     "execution_count": 3,
     "metadata": {},
     "output_type": "execute_result"
    }
   ],
   "source": [
    "a"
   ]
  },
  {
   "cell_type": "code",
   "execution_count": 4,
   "id": "12f45bb6",
   "metadata": {
    "scrolled": true
   },
   "outputs": [
    {
     "name": "stdout",
     "output_type": "stream",
     "text": [
      "[21  3]\n"
     ]
    }
   ],
   "source": [
    "print(a)"
   ]
  },
  {
   "cell_type": "code",
   "execution_count": 5,
   "id": "a1e1aaed",
   "metadata": {},
   "outputs": [],
   "source": [
    "nations = np.genfromtxt(\"nations.csv\", delimiter=\",\", skip_header=True) "
   ]
  },
  {
   "cell_type": "code",
   "execution_count": 6,
   "id": "c7f9b81b",
   "metadata": {},
   "outputs": [
    {
     "ename": "SyntaxError",
     "evalue": "invalid syntax (2865636003.py, line 1)",
     "output_type": "error",
     "traceback": [
      "\u001b[0;36m  File \u001b[0;32m\"/var/folders/mn/_8xnkbtj3z967_z2t8bf_1800000gn/T/ipykernel_1684/2865636003.py\"\u001b[0;36m, line \u001b[0;32m1\u001b[0m\n\u001b[0;31m    Tasks:\u001b[0m\n\u001b[0m          ^\u001b[0m\n\u001b[0;31mSyntaxError\u001b[0m\u001b[0;31m:\u001b[0m invalid syntax\n"
     ]
    }
   ],
   "source": [
    "Tasks:\n",
    "    \n",
    "    How many people live on earth?\n",
    "    What is the average life expectancy of the world population?\n",
    "    Do people who can read live longer? Back up your claim with a diagram.\n",
    "    Plot the average life expectancy in each country (Y-axis) as a function of GDP per capita (X-axis).\n",
    "    Additionally, draw a straight line in the same plot, which approximately reflects the course of the data points.\n",
    "    Create the appropriate linear equation and store it in a function.\n",
    "    Calculate how well the line approximates the data points by calculating the root-mean-square error (RMSE).\n",
    "    Change the straight line by hand so that the error or deviation is smaller. Make a note of your best result.\n",
    "    "
   ]
  },
  {
   "cell_type": "code",
   "execution_count": null,
   "id": "6e3ed481",
   "metadata": {},
   "outputs": [],
   "source": [
    "#1: How many people live on earth?\n",
    "\n",
    "worldPop = nations[:,6]\n",
    "print(np.sum(worldPop))"
   ]
  },
  {
   "cell_type": "code",
   "execution_count": null,
   "id": "b90c54cb",
   "metadata": {},
   "outputs": [],
   "source": [
    "#2: What is the average life expectancy of the world population?\n",
    "\n",
    "worldAverageLifespan = nations[:,4]\n",
    "print(np.mean(worldAverageLifespan))"
   ]
  },
  {
   "cell_type": "code",
   "execution_count": null,
   "id": "596e545c",
   "metadata": {},
   "outputs": [],
   "source": [
    "#3: Do people who can read live longer? Back up your claim with a diagram.\n",
    "\n",
    "import matplotlib.pyplot as plt\n",
    "%matplotlib inline  \n",
    "plt.xlabel(\"literacy\")\n",
    "plt.ylabel(\"lifespan\")\n",
    "\n",
    "worldLiteracy = nations[:,5]\n",
    "worldLifespan = nations[:,4]\n",
    "\n",
    "plt.bar(x = worldLiteracy, height = worldLifespan, width = 0.01)\n",
    "#plt.plot(worldLiteracy, worldLifespan, 'o')\n",
    "plt.show()"
   ]
  },
  {
   "cell_type": "code",
   "execution_count": null,
   "id": "a2314660",
   "metadata": {},
   "outputs": [],
   "source": [
    "#4: Plot the average life expectancy in each country (Y-axis) as a function of GDP per capita (X-axis).\n",
    "\n",
    "plt.xlabel(\"gdp / population\")\n",
    "plt.ylabel(\"lifespan\")\n",
    "\n",
    "worldLifespan = nations[:,4]\n",
    "\n",
    "worldGdpPerPerson = nations[:,3] / nations[:,6]\n",
    "\n",
    "plt.plot(worldGdpPerPerson, worldLifespan,  'o')\n",
    "plt.show()"
   ]
  },
  {
   "cell_type": "code",
   "execution_count": null,
   "id": "e6a189d3",
   "metadata": {},
   "outputs": [],
   "source": [
    "#5:  Additionally, draw a straight line in the same plot, which approximately reflects the course of the data points.\n",
    "\n",
    "plt.xlabel(\"gdp / population\")\n",
    "plt.ylabel(\"lifespan\")\n",
    "\n",
    "\n",
    "worldLifespan = nations[:,4]\n",
    "worldGdpPerPerson = nations[:,3] / nations[:,6]\n",
    "\n",
    "plt.plot(worldGdpPerPerson, worldLifespan,  'o')\n",
    "\n",
    "#plt.plot(np.arange(0.0, 0.15, 0.01), y, color='orange', linestyle='dotted')\n",
    "plt.plot([0, 0.14], [70, 81])\n",
    "plt.show()"
   ]
  },
  {
   "cell_type": "code",
   "execution_count": null,
   "id": "9d66d9ed",
   "metadata": {},
   "outputs": [],
   "source": [
    "#6:  Create the appropriate linear equation and store it in a function.\n",
    "\n",
    "import matplotlib.pyplot as plt\n",
    "%matplotlib inline  \n",
    "\n",
    "\n",
    "def linearGraphApproximation(x):\n",
    "\n",
    "    y = 78.57 * x + 70\n",
    "    \n",
    "    return y\n",
    "    \n",
    "\n",
    "worldLifespan = nations[:,4]\n",
    "worldGdpPerPerson = nations[:,3] / nations[:,6]\n",
    "\n",
    "plt.plot(worldGdpPerPerson, worldLifespan,  'o')    \n",
    "    \n",
    "plt.plot([0, 0.14], [linearGraphApproximation(0), linearGraphApproximation(0.14)])\n",
    "\n",
    "plt.show()"
   ]
  },
  {
   "cell_type": "code",
   "execution_count": 9,
   "id": "45098d44",
   "metadata": {},
   "outputs": [
    {
     "name": "stdout",
     "output_type": "stream",
     "text": [
      "8.171763116802067\n"
     ]
    },
    {
     "data": {
      "image/png": "[encoded data removed]",
      "text/plain": [
       "<Figure size 432x288 with 1 Axes>"
      ]
     },
     "metadata": {
      "needs_background": "light"
     },
     "output_type": "display_data"
    }
   ],
   "source": [
    "#7. Calculate how well the line approximates the data points by calculating the root-mean-square error (RMSE).\n",
    "\n",
    "import matplotlib.pyplot as plt\n",
    "import math\n",
    "%matplotlib inline  \n",
    "\n",
    "def linearGraphApproximation(x):\n",
    "\n",
    "    y = 78.57 * x + 70\n",
    "    \n",
    "    return y\n",
    "\n",
    "plt.xlabel(\"gdp / population\")\n",
    "plt.ylabel(\"lifespan\")\n",
    "\n",
    "\n",
    "worldLifespan = nations[:,4]\n",
    "worldGdpPerPerson = nations[:,3] / nations[:,6]\n",
    "\n",
    "plt.plot(worldGdpPerPerson, worldLifespan,  'o')    \n",
    "\n",
    "quadratischerFehlerSum = 0\n",
    "\n",
    "for i in range(len(worldGdpPerPerson)):\n",
    "    quadratischerFehlerSum = quadratischerFehlerSum + pow(linearGraphApproximation(worldGdpPerPerson[i]) - nations[i, 4], 2)\n",
    "    \n",
    "mse = quadratischerFehlerSum / len(nations[:,4])\n",
    "    \n",
    "rmse = math.sqrt(mse)\n",
    "    \n",
    "print(rmse)\n",
    "    \n",
    "plt.plot([0, 0.14], [linearGraphApproximation(0), linearGraphApproximation(0.14)])  \n",
    "plt.show()\n",
    "\n",
    "\n"
   ]
  },
  {
   "cell_type": "code",
   "execution_count": 11,
   "id": "0b3def35",
   "metadata": {},
   "outputs": [
    {
     "name": "stdout",
     "output_type": "stream",
     "text": [
      "8.301051166157833\n"
     ]
    },
    {
     "data": {
      "image/png": "[encoded data removed]",
      "text/plain": [
       "<Figure size 432x288 with 1 Axes>"
      ]
     },
     "metadata": {
      "needs_background": "light"
     },
     "output_type": "display_data"
    }
   ],
   "source": [
    "#8. Change the straight line by hand so that the error or deviation is smaller. Make a note of your best result.\n",
    "\n",
    "import matplotlib.pyplot as plt\n",
    "import math\n",
    "%matplotlib inline  \n",
    "\n",
    "def linearGraphApproximation(x):\n",
    "\n",
    "    y = 78.57 * x + 72\n",
    "    \n",
    "    return y\n",
    "\n",
    "plt.xlabel(\"gdp / population\")\n",
    "plt.ylabel(\"lifespan\")\n",
    "\n",
    "\n",
    "worldLifespan = nations[:,4]\n",
    "worldGdpPerPerson = nations[:,3] / nations[:,6]\n",
    "\n",
    "plt.plot(worldGdpPerPerson, worldLifespan,  'o')    \n",
    "\n",
    "quadratischerFehlerSum = 0\n",
    "\n",
    "for i in range(len(worldGdpPerPerson)):\n",
    "    quadratischerFehlerSum = quadratischerFehlerSum + pow(linearGraphApproximation(worldGdpPerPerson[i]) - nations[i, 4], 2)\n",
    "    \n",
    "mse = quadratischerFehlerSum / len(nations[:,4])\n",
    "    \n",
    "rmse = math.sqrt(mse)\n",
    "    \n",
    "print(rmse)\n",
    "    \n",
    "plt.plot([0, 0.14], [linearGraphApproximation(0), linearGraphApproximation(0.14)])  \n",
    "plt.show()\n"
   ]
  },
  {
   "cell_type": "code",
   "execution_count": null,
   "id": "d52bde9e",
   "metadata": {},
   "outputs": [],
   "source": [
    "#Mein bestes Resultat bei der rmse war, wie hier zu sehen ist 9.023635291002773"
   ]
  }
 ],
 "metadata": {
  "kernelspec": {
   "display_name": "Python 3 (ipykernel)",
   "language": "python",
   "name": "python3"
  },
  "language_info": {
   "codemirror_mode": {
    "name": "ipython",
    "version": 3
   },
   "file_extension": ".py",
   "mimetype": "text/x-python",
   "name": "python",
   "nbconvert_exporter": "python",
   "pygments_lexer": "ipython3",
   "version": "3.7.13"
  }
 },
 "nbformat": 4,
 "nbformat_minor": 5
}
