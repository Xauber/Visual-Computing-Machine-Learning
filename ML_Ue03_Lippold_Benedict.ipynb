{
 "cells": [
  {
   "cell_type": "code",
   "execution_count": 1,
   "id": "75e7bb8f",
   "metadata": {},
   "outputs": [],
   "source": [
    "import numpy as np\n",
    "import matplotlib.pyplot as plt\n",
    "%matplotlib inline "
   ]
  },
  {
   "cell_type": "code",
   "execution_count": 2,
   "id": "a1e1aaed",
   "metadata": {},
   "outputs": [],
   "source": [
    "nations = np.genfromtxt(\"nations.csv\", delimiter=\",\", skip_header=True) "
   ]
  },
  {
   "cell_type": "code",
   "execution_count": 5,
   "id": "c8c4c934",
   "metadata": {},
   "outputs": [
    {
     "data": {
      "image/png": "[encoded data removed]",
      "text/plain": [
       "<Figure size 432x288 with 1 Axes>"
      ]
     },
     "metadata": {
      "needs_background": "light"
     },
     "output_type": "display_data"
    }
   ],
   "source": [
    "import numpy as np\n",
    "import matplotlib.pyplot as plt\n",
    "import random\n",
    "%matplotlib inline\n",
    "\n",
    "nations = np.genfromtxt(\"nations.csv\", delimiter=\",\", skip_header=True) \n",
    "\n",
    "\n",
    "# Funktion zur Berechnung des root square error\n",
    "def getRMSE (werte, erwarteteWerte):\n",
    "    quadratischerFehlerSum =  np.sum(np.power((erwarteteWerte) - werte, 2))\n",
    "    mse = quadratischerFehlerSum / len(werte)\n",
    "    rmse = np.sqrt(mse)\n",
    "    return rmse\n",
    "    \n",
    "# Polynomfunktion zweiten Grades mit angegebenen Koeffizienten zurückgeben\n",
    "def getPolynomfunktion(x, k0, k1, k2):\n",
    "    y = (k0 * pow(x, 0)) + (k1 * pow(x, 1)) + (k2 * pow(x, 2))\n",
    "    return y\n",
    "\n",
    "def normalizeMinMax(input):\n",
    "    minInput = np.amin(input)\n",
    "    maxInput = np.amax(input)\n",
    "    normalizedMinMaxInput = (input - minInput) / (maxInput - minInput)\n",
    "    return normalizedMinMaxInput\n",
    "    \n",
    "\n",
    "def denormalizeMinMax(input, minInputOriginalData, maxInputOriginalData):\n",
    "    # Formel aus den Slides: 𝑑𝑒𝑛𝑜𝑟𝑚 = 𝑛𝑜𝑟𝑚 ∗ (max 𝑥 − min 𝑥 ) + min(𝑥)\n",
    "    denormalizedMinMax = input * (maxInputOriginalData - minInputOriginalData) + minInputOriginalData\n",
    "    return denormalizedMinMax\n",
    "    \n",
    "# Die tatsächlichen Werte zum Verhältnis der World Lifespan zum World GDP per Person\n",
    "worldGdpPerPerson = (nations[:,3] / nations[:,6]) * 1000000\n",
    "worldLifespan = nations[:,4]    \n",
    "\n",
    "    \n",
    "# original Min & Max values um später denormalisieren zu können\n",
    "maxWorldGdpPerPerson = np.amax(worldGdpPerPerson)\n",
    "maxWorldLifespan = np.amax(worldLifespan)\n",
    "minWorldGdpPerPerson = np.amin(worldGdpPerPerson)\n",
    "minWorldLifespan = np.amin(worldLifespan)\n",
    "\n",
    "#min/max Normalization\n",
    "normalizedMinMaxWorldGdpPerPerson = normalizeMinMax(worldGdpPerPerson)\n",
    "normalizedMinMaxWorldLifespan = normalizeMinMax(worldLifespan)\n",
    "\n",
    "\n",
    "bippp = np.expand_dims(normalizedMinMaxWorldGdpPerPerson, axis=0)\n",
    "p = np.expand_dims(np.arange(0,3), axis=1)\n",
    "bippp2 = np.power(bippp, p)\n",
    "\n",
    "\n",
    "#Initialisierung der Variablen der kleinsten RMSE und der optimalsten Koeffizienten, smallestRMSE auf unendlich\n",
    "smallestRMSE = float(\"inf\")\n",
    "besteKoeffizienten = 0\n",
    "\n",
    "for i in range(0, 100001): \n",
    "    k0 = random.uniform(-1.0, 1.0)\n",
    "    k1 = random.uniform(-1.0, 1.0)\n",
    "    k2 = random.uniform(-1.0, 1.0)\n",
    "    \n",
    "    #Berechnung der Werte der jeweiligen Polynomfunktion\n",
    "    k = np.expand_dims(np.array([k0,k1,k2]), axis=1)\n",
    "    y = np.matmul(bippp2.transpose(), k)\n",
    "    y = np.squeeze(y)\n",
    "    \n",
    "    rmse = getRMSE(y, normalizedMinMaxWorldLifespan) \n",
    "    #print(rmse)\n",
    "    \n",
    "    if(rmse < smallestRMSE):\n",
    "        smallestRMSE = rmse\n",
    "        besteKoeffizienten = np.array([k0, k1, k2])\n",
    "\n",
    "# x Achse plotten und passend skalieren\n",
    "x = np.arange(0, 1.0, 0.01)    \n",
    "\n",
    "\n",
    "# Originalwerte plotten durch Denormalisierung der normalisierten Werte (checkt auch ob die beiden Funktionen funktionieren)\n",
    "plt.plot(denormalizeMinMax(normalizedMinMaxWorldGdpPerPerson, minWorldGdpPerPerson, maxWorldGdpPerPerson), denormalizeMinMax(normalizedMinMaxWorldLifespan, minWorldLifespan, maxWorldLifespan), 'o')\n",
    "\n",
    "#print(normalizedMinMaxWorldGdpPerPerson, normalizedMinMaxWorldLifespan)\n",
    "#print(worldGdpPerPerson,worldLifespan)\n",
    "#print(denormalizeMinMax(normalizedMinMaxWorldGdpPerPerson, minWorldGdpPerPerson, maxWorldGdpPerPerson), denormalizeMinMax(normalizedMinMaxWorldLifespan, minWorldLifespan, maxWorldLifespan))\n",
    "\n",
    "# Polynomfunktion plotten und Werte denormalisieren\n",
    "plt.plot(denormalizeMinMax(x, minWorldGdpPerPerson, maxWorldGdpPerPerson), denormalizeMinMax(getPolynomfunktion(x, besteKoeffizienten[0], besteKoeffizienten[1], besteKoeffizienten[2]), minWorldLifespan, maxWorldLifespan), color=\"orange\")\n",
    "#print(smallestRMSE)\n",
    "\n",
    "#print(normalizedMinMaxWorldGdpPerPerson, normalizedMinMaxWorldLifespan)\n",
    "#print(besteKoeffizienten)\n",
    "plt.show()"
   ]
  },
  {
   "cell_type": "code",
   "execution_count": null,
   "id": "84762518",
   "metadata": {},
   "outputs": [],
   "source": []
  },
  {
   "cell_type": "code",
   "execution_count": null,
   "id": "0019c0df",
   "metadata": {},
   "outputs": [],
   "source": []
  }
 ],
 "metadata": {
  "kernelspec": {
   "display_name": "Python 3 (ipykernel)",
   "language": "python",
   "name": "python3"
  },
  "language_info": {
   "codemirror_mode": {
    "name": "ipython",
    "version": 3
   },
   "file_extension": ".py",
   "mimetype": "text/x-python",
   "name": "python",
   "nbconvert_exporter": "python",
   "pygments_lexer": "ipython3",
   "version": "3.7.13"
  }
 },
 "nbformat": 4,
 "nbformat_minor": 5
}
